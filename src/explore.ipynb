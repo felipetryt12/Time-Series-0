{
    "cells": [
        {
            "cell_type": "markdown",
            "metadata": {},
            "source": [
                "# Explore here"
            ]
        },
        {
            "cell_type": "code",
            "execution_count": 76,
            "metadata": {},
            "outputs": [],
            "source": [
                "import numpy as np\n",
                "import pandas as pd\n",
                "import matplotlib.pyplot as plt\n",
                "import seaborn as sns\n",
                "from statsmodels.tsa.stattools import adfuller\n",
                "from statsmodels.tsa.seasonal import seasonal_decompose\n",
                "from statsmodels.graphics.tsaplots import plot_acf, plot_pacf\n",
                "from statsmodels.tsa.arima.model import ARIMA\n",
                "from sklearn.metrics import mean_absolute_error, mean_squared_error"
            ]
        },
        {
            "cell_type": "code",
            "execution_count": 77,
            "metadata": {},
            "outputs": [
                {
                    "data": {
                        "text/html": [
                            "<div>\n",
                            "<style scoped>\n",
                            "    .dataframe tbody tr th:only-of-type {\n",
                            "        vertical-align: middle;\n",
                            "    }\n",
                            "\n",
                            "    .dataframe tbody tr th {\n",
                            "        vertical-align: top;\n",
                            "    }\n",
                            "\n",
                            "    .dataframe thead th {\n",
                            "        text-align: right;\n",
                            "    }\n",
                            "</style>\n",
                            "<table border=\"1\" class=\"dataframe\">\n",
                            "  <thead>\n",
                            "    <tr style=\"text-align: right;\">\n",
                            "      <th></th>\n",
                            "      <th>sales</th>\n",
                            "      <th>sales_log</th>\n",
                            "      <th>sales_diff</th>\n",
                            "      <th>sales_log_diff</th>\n",
                            "    </tr>\n",
                            "    <tr>\n",
                            "      <th>date</th>\n",
                            "      <th></th>\n",
                            "      <th></th>\n",
                            "      <th></th>\n",
                            "      <th></th>\n",
                            "    </tr>\n",
                            "  </thead>\n",
                            "  <tbody>\n",
                            "    <tr>\n",
                            "      <th>2022-09-03 17:10:08.079328</th>\n",
                            "      <td>55.292157</td>\n",
                            "      <td>4.012631</td>\n",
                            "      <td>NaN</td>\n",
                            "      <td>NaN</td>\n",
                            "    </tr>\n",
                            "    <tr>\n",
                            "      <th>2022-09-04 17:10:08.079328</th>\n",
                            "      <td>53.803211</td>\n",
                            "      <td>3.985333</td>\n",
                            "      <td>-1.488946</td>\n",
                            "      <td>-0.027298</td>\n",
                            "    </tr>\n",
                            "    <tr>\n",
                            "      <th>2022-09-05 17:10:08.079328</th>\n",
                            "      <td>58.141693</td>\n",
                            "      <td>4.062883</td>\n",
                            "      <td>4.338482</td>\n",
                            "      <td>0.077550</td>\n",
                            "    </tr>\n",
                            "    <tr>\n",
                            "      <th>2022-09-06 17:10:08.079328</th>\n",
                            "      <td>64.530899</td>\n",
                            "      <td>4.167144</td>\n",
                            "      <td>6.389205</td>\n",
                            "      <td>0.104261</td>\n",
                            "    </tr>\n",
                            "    <tr>\n",
                            "      <th>2022-09-07 17:10:08.079328</th>\n",
                            "      <td>66.013633</td>\n",
                            "      <td>4.189861</td>\n",
                            "      <td>1.482734</td>\n",
                            "      <td>0.022717</td>\n",
                            "    </tr>\n",
                            "    <tr>\n",
                            "      <th>...</th>\n",
                            "      <td>...</td>\n",
                            "      <td>...</td>\n",
                            "      <td>...</td>\n",
                            "      <td>...</td>\n",
                            "    </tr>\n",
                            "    <tr>\n",
                            "      <th>2023-08-30 17:10:08.079328</th>\n",
                            "      <td>989.600354</td>\n",
                            "      <td>6.897301</td>\n",
                            "      <td>0.518681</td>\n",
                            "      <td>0.000524</td>\n",
                            "    </tr>\n",
                            "    <tr>\n",
                            "      <th>2023-08-31 17:10:08.079328</th>\n",
                            "      <td>994.987326</td>\n",
                            "      <td>6.902730</td>\n",
                            "      <td>5.386972</td>\n",
                            "      <td>0.005429</td>\n",
                            "    </tr>\n",
                            "    <tr>\n",
                            "      <th>2023-09-01 17:10:08.079328</th>\n",
                            "      <td>995.814415</td>\n",
                            "      <td>6.903561</td>\n",
                            "      <td>0.827090</td>\n",
                            "      <td>0.000831</td>\n",
                            "    </tr>\n",
                            "    <tr>\n",
                            "      <th>2023-09-02 17:10:08.079328</th>\n",
                            "      <td>997.350214</td>\n",
                            "      <td>6.905102</td>\n",
                            "      <td>1.535798</td>\n",
                            "      <td>0.001541</td>\n",
                            "    </tr>\n",
                            "    <tr>\n",
                            "      <th>2023-09-03 17:10:08.079328</th>\n",
                            "      <td>1000.482785</td>\n",
                            "      <td>6.908238</td>\n",
                            "      <td>3.132571</td>\n",
                            "      <td>0.003136</td>\n",
                            "    </tr>\n",
                            "  </tbody>\n",
                            "</table>\n",
                            "<p>366 rows × 4 columns</p>\n",
                            "</div>"
                        ],
                        "text/plain": [
                            "                                  sales  sales_log  sales_diff  sales_log_diff\n",
                            "date                                                                          \n",
                            "2022-09-03 17:10:08.079328    55.292157   4.012631         NaN             NaN\n",
                            "2022-09-04 17:10:08.079328    53.803211   3.985333   -1.488946       -0.027298\n",
                            "2022-09-05 17:10:08.079328    58.141693   4.062883    4.338482        0.077550\n",
                            "2022-09-06 17:10:08.079328    64.530899   4.167144    6.389205        0.104261\n",
                            "2022-09-07 17:10:08.079328    66.013633   4.189861    1.482734        0.022717\n",
                            "...                                 ...        ...         ...             ...\n",
                            "2023-08-30 17:10:08.079328   989.600354   6.897301    0.518681        0.000524\n",
                            "2023-08-31 17:10:08.079328   994.987326   6.902730    5.386972        0.005429\n",
                            "2023-09-01 17:10:08.079328   995.814415   6.903561    0.827090        0.000831\n",
                            "2023-09-02 17:10:08.079328   997.350214   6.905102    1.535798        0.001541\n",
                            "2023-09-03 17:10:08.079328  1000.482785   6.908238    3.132571        0.003136\n",
                            "\n",
                            "[366 rows x 4 columns]"
                        ]
                    },
                    "execution_count": 77,
                    "metadata": {},
                    "output_type": "execute_result"
                }
            ],
            "source": [
                "dataF"
            ]
        },
        {
            "cell_type": "code",
            "execution_count": 82,
            "metadata": {},
            "outputs": [
                {
                    "data": {
                        "text/plain": [
                            "Text(0, 0.5, 'ventas')"
                        ]
                    },
                    "execution_count": 82,
                    "metadata": {},
                    "output_type": "execute_result"
                },
                {
                    "data": {
                        "image/png": "[encoded data removed]",
                        "text/plain": [
                            "<Figure size 1000x500 with 1 Axes>"
                        ]
                    },
                    "metadata": {},
                    "output_type": "display_data"
                }
            ],
            "source": [
                "plt.figure(figsize=(10,5))\n",
                "sns.lineplot(data=dataF['sales'])\n",
                "plt.title('Serie temporal original')\n",
                "plt.xlabel('Fechas')\n",
                "plt.ylabel('ventas')"
            ]
        },
        {
            "cell_type": "code",
            "execution_count": 78,
            "metadata": {},
            "outputs": [
                {
                    "data": {
                        "text/html": [
                            "<div>\n",
                            "<style scoped>\n",
                            "    .dataframe tbody tr th:only-of-type {\n",
                            "        vertical-align: middle;\n",
                            "    }\n",
                            "\n",
                            "    .dataframe tbody tr th {\n",
                            "        vertical-align: top;\n",
                            "    }\n",
                            "\n",
                            "    .dataframe thead th {\n",
                            "        text-align: right;\n",
                            "    }\n",
                            "</style>\n",
                            "<table border=\"1\" class=\"dataframe\">\n",
                            "  <thead>\n",
                            "    <tr style=\"text-align: right;\">\n",
                            "      <th></th>\n",
                            "      <th>sales</th>\n",
                            "    </tr>\n",
                            "    <tr>\n",
                            "      <th>date</th>\n",
                            "      <th></th>\n",
                            "    </tr>\n",
                            "  </thead>\n",
                            "  <tbody>\n",
                            "    <tr>\n",
                            "      <th>2022-09-03 17:10:08.079328</th>\n",
                            "      <td>55.292157</td>\n",
                            "    </tr>\n",
                            "    <tr>\n",
                            "      <th>2022-09-04 17:10:08.079328</th>\n",
                            "      <td>53.803211</td>\n",
                            "    </tr>\n",
                            "    <tr>\n",
                            "      <th>2022-09-05 17:10:08.079328</th>\n",
                            "      <td>58.141693</td>\n",
                            "    </tr>\n",
                            "    <tr>\n",
                            "      <th>2022-09-06 17:10:08.079328</th>\n",
                            "      <td>64.530899</td>\n",
                            "    </tr>\n",
                            "    <tr>\n",
                            "      <th>2022-09-07 17:10:08.079328</th>\n",
                            "      <td>66.013633</td>\n",
                            "    </tr>\n",
                            "    <tr>\n",
                            "      <th>...</th>\n",
                            "      <td>...</td>\n",
                            "    </tr>\n",
                            "    <tr>\n",
                            "      <th>2023-08-30 17:10:08.079328</th>\n",
                            "      <td>989.600354</td>\n",
                            "    </tr>\n",
                            "    <tr>\n",
                            "      <th>2023-08-31 17:10:08.079328</th>\n",
                            "      <td>994.987326</td>\n",
                            "    </tr>\n",
                            "    <tr>\n",
                            "      <th>2023-09-01 17:10:08.079328</th>\n",
                            "      <td>995.814415</td>\n",
                            "    </tr>\n",
                            "    <tr>\n",
                            "      <th>2023-09-02 17:10:08.079328</th>\n",
                            "      <td>997.350214</td>\n",
                            "    </tr>\n",
                            "    <tr>\n",
                            "      <th>2023-09-03 17:10:08.079328</th>\n",
                            "      <td>1000.482785</td>\n",
                            "    </tr>\n",
                            "  </tbody>\n",
                            "</table>\n",
                            "<p>366 rows × 1 columns</p>\n",
                            "</div>"
                        ],
                        "text/plain": [
                            "                                  sales\n",
                            "date                                   \n",
                            "2022-09-03 17:10:08.079328    55.292157\n",
                            "2022-09-04 17:10:08.079328    53.803211\n",
                            "2022-09-05 17:10:08.079328    58.141693\n",
                            "2022-09-06 17:10:08.079328    64.530899\n",
                            "2022-09-07 17:10:08.079328    66.013633\n",
                            "...                                 ...\n",
                            "2023-08-30 17:10:08.079328   989.600354\n",
                            "2023-08-31 17:10:08.079328   994.987326\n",
                            "2023-09-01 17:10:08.079328   995.814415\n",
                            "2023-09-02 17:10:08.079328   997.350214\n",
                            "2023-09-03 17:10:08.079328  1000.482785\n",
                            "\n",
                            "[366 rows x 1 columns]"
                        ]
                    },
                    "execution_count": 78,
                    "metadata": {},
                    "output_type": "execute_result"
                }
            ],
            "source": [
                "data_util #Para transformacion del tensor a semanal"
            ]
        },
        {
            "cell_type": "code",
            "execution_count": 81,
            "metadata": {},
            "outputs": [],
            "source": [
                "data_estacionaria.to_csv(r'C:\\Users\\wipip\\OneDrive\\Documentos\\GitHub\\Time-Series-0-main\\data\\processed\\data_procesada.csv', index=True)"
            ]
        }
    ],
    "metadata": {
        "kernelspec": {
            "display_name": "Python 3.8.13 64-bit ('3.8.13')",
            "language": "python",
            "name": "python3"
        },
        "language_info": {
            "codemirror_mode": {
                "name": "ipython",
                "version": 3
            },
            "file_extension": ".py",
            "mimetype": "text/x-python",
            "name": "python",
            "nbconvert_exporter": "python",
            "pygments_lexer": "ipython3",
            "version": "3.12.4"
        },
        "orig_nbformat": 4,
        "vscode": {
            "interpreter": {
                "hash": "110cc1dee26208153f2972f08a2ad52b6a56238dc66d48e87fb757ef2996db56"
            }
        }
    },
    "nbformat": 4,
    "nbformat_minor": 2
}
